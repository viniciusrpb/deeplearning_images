{
  "nbformat": 4,
  "nbformat_minor": 0,
  "metadata": {
    "colab": {
      "name": "mnist_classification_kerastf_mnist.ipynb",
      "provenance": [],
      "include_colab_link": true
    },
    "kernelspec": {
      "name": "python3",
      "display_name": "Python 3"
    },
    "accelerator": "GPU"
  },
  "cells": [
    {
      "cell_type": "markdown",
      "metadata": {
        "id": "view-in-github",
        "colab_type": "text"
      },
      "source": [
        "<a href=\"https://colab.research.google.com/github/viniciusrpb/deeplearning_images/blob/main/mnist_classification_kerastf_mnist.ipynb\" target=\"_parent\"><img src=\"https://colab.research.google.com/assets/colab-badge.svg\" alt=\"Open In Colab\"/></a>"
      ]
    },
    {
      "cell_type": "code",
      "metadata": {
        "id": "TYH29J1TA5si",
        "outputId": "f0a11d6f-5ac4-4a1d-c548-2977e86f0420",
        "colab": {
          "base_uri": "https://localhost:8080/",
          "height": 1000
        }
      },
      "source": [
        "import keras\n",
        "from keras.models import Sequential\n",
        "from keras.layers import Dense, Activation, Dropout, Flatten,Conv2D, MaxPooling2D\n",
        "from keras.layers.normalization import BatchNormalization\n",
        "from keras.datasets import mnist\n",
        "\n",
        "(used_images, used_labels), (test_images, test_labels) = mnist.load_data()\n",
        "\n",
        "used_images = used_images.reshape((60000, 28, 28, 1))\n",
        "test_images = test_images.reshape((10000, 28, 28, 1))\n",
        "\n",
        "used_images = used_images.astype('float32')\n",
        "train_images,train_labels = used_images[5000:],used_labels[5000:]\n",
        "validation_images,validation_labels = used_images[0:4999],used_labels[0:4999]\n",
        "test_images = test_images.astype('float32')\n",
        "\n",
        "# Normalize pixel values to be between 0 and 1\n",
        "train_images, validation_images, test_images = train_images / 255.0, validation_images/ 255.0, test_images / 255.0\n",
        "\n",
        "# (3) Create a sequential model\n",
        "model = Sequential()\n",
        "\n",
        "# 1st Convolutional Layer\n",
        "model.add(Conv2D(filters=32, input_shape=(28,28,1), kernel_size=(3,3),strides=(1,1), padding='valid'))\n",
        "model.add(Activation('relu'))\n",
        "# Pooling \n",
        "model.add(MaxPooling2D(pool_size=(2,2), strides=(2,2), padding='valid'))\n",
        "# Batch Normalisation before passing it to the next layer\n",
        "model.add(BatchNormalization())\n",
        "\n",
        "# 2nd Convolutional Layer\n",
        "model.add(Conv2D(filters=32, kernel_size=(3,3), strides=(1,1), padding='valid'))\n",
        "model.add(Activation('relu'))\n",
        "# Pooling\n",
        "model.add(MaxPooling2D(pool_size=(3,3), strides=(1,1), padding='valid'))\n",
        "# Batch Normalisation\n",
        "model.add(BatchNormalization())\n",
        "\n",
        "# 3rd Convolutional Layer\n",
        "model.add(Conv2D(filters=384, kernel_size=(3,3), strides=(1,1), padding='valid'))\n",
        "model.add(Activation('relu'))\n",
        "# Batch Normalisation\n",
        "model.add(BatchNormalization())\n",
        "\n",
        "# 4th Convolutional Layer\n",
        "model.add(Conv2D(filters=384, kernel_size=(3,3), strides=(1,1), padding='valid'))\n",
        "model.add(Activation('relu'))\n",
        "# Batch Normalisation\n",
        "model.add(BatchNormalization())\n",
        "\n",
        "# 5th Convolutional Layer\n",
        "model.add(Conv2D(filters=256, kernel_size=(3,3), strides=(1,1), padding='valid'))\n",
        "model.add(Activation('relu'))\n",
        "# Pooling\n",
        "model.add(MaxPooling2D(pool_size=(2,2), strides=(2,2), padding='valid'))\n",
        "# Batch Normalisation\n",
        "model.add(BatchNormalization())\n",
        "\n",
        "# Passing it to a dense layer\n",
        "model.add(Flatten())\n",
        "# 1st Dense Layer\n",
        "model.add(Dense(4096, input_shape=(224*224*3,)))\n",
        "model.add(Activation('relu'))\n",
        "# Add Dropout to prevent overfitting\n",
        "model.add(Dropout(0.4))\n",
        "# Batch Normalisation\n",
        "model.add(BatchNormalization())\n",
        "\n",
        "# 2nd Dense Layer\n",
        "model.add(Dense(4096))\n",
        "model.add(Activation('relu'))\n",
        "# Add Dropout\n",
        "model.add(Dropout(0.4))\n",
        "# Batch Normalisation\n",
        "model.add(BatchNormalization())\n",
        "\n",
        "# 3rd Dense Layer\n",
        "model.add(Dense(1000))\n",
        "model.add(Activation('relu'))\n",
        "# Add Dropout\n",
        "model.add(Dropout(0.4))\n",
        "# Batch Normalisation\n",
        "model.add(BatchNormalization())\n",
        "\n",
        "# Output Layer\n",
        "model.add(Dense(10))\n",
        "model.add(Activation('softmax'))\n",
        "\n",
        "model.summary()\n",
        "\n",
        "opt = keras.optimizers.Adam(learning_rate=0.01)\n",
        "\n",
        "model.compile(optimizer=opt,\n",
        "              loss='sparse_categorical_crossentropy',\n",
        "              metrics=['accuracy'])\n",
        "\n",
        "model.fit(train_images, train_labels, epochs=10)"
      ],
      "execution_count": null,
      "outputs": [
        {
          "output_type": "stream",
          "text": [
            "Model: \"sequential_6\"\n",
            "_________________________________________________________________\n",
            "Layer (type)                 Output Shape              Param #   \n",
            "=================================================================\n",
            "conv2d_30 (Conv2D)           (None, 26, 26, 32)        320       \n",
            "_________________________________________________________________\n",
            "activation_54 (Activation)   (None, 26, 26, 32)        0         \n",
            "_________________________________________________________________\n",
            "max_pooling2d_18 (MaxPooling (None, 13, 13, 32)        0         \n",
            "_________________________________________________________________\n",
            "batch_normalization_48 (Batc (None, 13, 13, 32)        128       \n",
            "_________________________________________________________________\n",
            "conv2d_31 (Conv2D)           (None, 11, 11, 32)        9248      \n",
            "_________________________________________________________________\n",
            "activation_55 (Activation)   (None, 11, 11, 32)        0         \n",
            "_________________________________________________________________\n",
            "max_pooling2d_19 (MaxPooling (None, 9, 9, 32)          0         \n",
            "_________________________________________________________________\n",
            "batch_normalization_49 (Batc (None, 9, 9, 32)          128       \n",
            "_________________________________________________________________\n",
            "conv2d_32 (Conv2D)           (None, 7, 7, 384)         110976    \n",
            "_________________________________________________________________\n",
            "activation_56 (Activation)   (None, 7, 7, 384)         0         \n",
            "_________________________________________________________________\n",
            "batch_normalization_50 (Batc (None, 7, 7, 384)         1536      \n",
            "_________________________________________________________________\n",
            "conv2d_33 (Conv2D)           (None, 5, 5, 384)         1327488   \n",
            "_________________________________________________________________\n",
            "activation_57 (Activation)   (None, 5, 5, 384)         0         \n",
            "_________________________________________________________________\n",
            "batch_normalization_51 (Batc (None, 5, 5, 384)         1536      \n",
            "_________________________________________________________________\n",
            "conv2d_34 (Conv2D)           (None, 3, 3, 256)         884992    \n",
            "_________________________________________________________________\n",
            "activation_58 (Activation)   (None, 3, 3, 256)         0         \n",
            "_________________________________________________________________\n",
            "max_pooling2d_20 (MaxPooling (None, 1, 1, 256)         0         \n",
            "_________________________________________________________________\n",
            "batch_normalization_52 (Batc (None, 1, 1, 256)         1024      \n",
            "_________________________________________________________________\n",
            "flatten_6 (Flatten)          (None, 256)               0         \n",
            "_________________________________________________________________\n",
            "dense_24 (Dense)             (None, 4096)              1052672   \n",
            "_________________________________________________________________\n",
            "activation_59 (Activation)   (None, 4096)              0         \n",
            "_________________________________________________________________\n",
            "dropout_18 (Dropout)         (None, 4096)              0         \n",
            "_________________________________________________________________\n",
            "batch_normalization_53 (Batc (None, 4096)              16384     \n",
            "_________________________________________________________________\n",
            "dense_25 (Dense)             (None, 4096)              16781312  \n",
            "_________________________________________________________________\n",
            "activation_60 (Activation)   (None, 4096)              0         \n",
            "_________________________________________________________________\n",
            "dropout_19 (Dropout)         (None, 4096)              0         \n",
            "_________________________________________________________________\n",
            "batch_normalization_54 (Batc (None, 4096)              16384     \n",
            "_________________________________________________________________\n",
            "dense_26 (Dense)             (None, 1000)              4097000   \n",
            "_________________________________________________________________\n",
            "activation_61 (Activation)   (None, 1000)              0         \n",
            "_________________________________________________________________\n",
            "dropout_20 (Dropout)         (None, 1000)              0         \n",
            "_________________________________________________________________\n",
            "batch_normalization_55 (Batc (None, 1000)              4000      \n",
            "_________________________________________________________________\n",
            "dense_27 (Dense)             (None, 10)                10010     \n",
            "_________________________________________________________________\n",
            "activation_62 (Activation)   (None, 10)                0         \n",
            "=================================================================\n",
            "Total params: 24,315,138\n",
            "Trainable params: 24,294,578\n",
            "Non-trainable params: 20,560\n",
            "_________________________________________________________________\n",
            "Epoch 1/10\n",
            "1719/1719 [==============================] - 21s 12ms/step - loss: 0.3230 - accuracy: 0.9216\n",
            "Epoch 2/10\n",
            "1719/1719 [==============================] - 21s 12ms/step - loss: 0.1367 - accuracy: 0.9660\n",
            "Epoch 3/10\n",
            "1719/1719 [==============================] - 21s 12ms/step - loss: 0.1154 - accuracy: 0.9713\n",
            "Epoch 4/10\n",
            "1719/1719 [==============================] - 21s 12ms/step - loss: 0.1069 - accuracy: 0.9756\n",
            "Epoch 5/10\n",
            "1719/1719 [==============================] - 21s 12ms/step - loss: 0.0995 - accuracy: 0.9768\n",
            "Epoch 6/10\n",
            "1719/1719 [==============================] - 21s 12ms/step - loss: 0.0920 - accuracy: 0.9800\n",
            "Epoch 7/10\n",
            "1719/1719 [==============================] - 21s 12ms/step - loss: 0.0772 - accuracy: 0.9831\n",
            "Epoch 8/10\n",
            "1719/1719 [==============================] - 21s 12ms/step - loss: 0.0845 - accuracy: 0.9828\n",
            "Epoch 9/10\n",
            "1719/1719 [==============================] - 21s 12ms/step - loss: 0.0649 - accuracy: 0.9865\n",
            "Epoch 10/10\n",
            "1719/1719 [==============================] - 21s 12ms/step - loss: 0.0641 - accuracy: 0.9870\n"
          ],
          "name": "stdout"
        },
        {
          "output_type": "execute_result",
          "data": {
            "text/plain": [
              "<tensorflow.python.keras.callbacks.History at 0x7f51bdfc4128>"
            ]
          },
          "metadata": {
            "tags": []
          },
          "execution_count": 11
        }
      ]
    },
    {
      "cell_type": "code",
      "metadata": {
        "id": "a5eor8mzgaUU"
      },
      "source": [
        "validation_loss, validation_acc = model.evaluate(validation_images, validation_labels)\n"
      ],
      "execution_count": null,
      "outputs": []
    },
    {
      "cell_type": "markdown",
      "metadata": {
        "id": "LiDBiJjRgdFo"
      },
      "source": [
        "Experimentos com os conjuntos de testes"
      ]
    },
    {
      "cell_type": "code",
      "metadata": {
        "id": "p-BCLuefgcB5",
        "outputId": "ae443d0e-a3e2-4ab9-f47a-be54ef934280",
        "colab": {
          "base_uri": "https://localhost:8080/",
          "height": 35
        }
      },
      "source": [
        "\n",
        "test_loss, test_acc = model.evaluate(test_images, test_labels)"
      ],
      "execution_count": null,
      "outputs": [
        {
          "output_type": "stream",
          "text": [
            "313/313 [==============================] - 1s 4ms/step - loss: 0.1816 - accuracy: 0.9579\n"
          ],
          "name": "stdout"
        }
      ]
    },
    {
      "cell_type": "markdown",
      "metadata": {
        "id": "D8IQKC-Jh1ga"
      },
      "source": [
        ""
      ]
    },
    {
      "cell_type": "code",
      "metadata": {
        "id": "GwCUZ_aXh2ND",
        "outputId": "7d403ddd-fad2-4c6f-b7d3-c124599976aa",
        "colab": {
          "base_uri": "https://localhost:8080/",
          "height": 71
        }
      },
      "source": [
        "print(train_images.shape)\n",
        "print(validation_images.shape)\n",
        "print(test_images.shape)"
      ],
      "execution_count": null,
      "outputs": [
        {
          "output_type": "stream",
          "text": [
            "(4999, 28, 28, 1)\n",
            "(55000, 28, 28, 1)\n",
            "(10000, 28, 28, 1)\n"
          ],
          "name": "stdout"
        }
      ]
    }
  ]
}